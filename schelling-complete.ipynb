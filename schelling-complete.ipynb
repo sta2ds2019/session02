{
 "cells": [
  {
   "cell_type": "code",
   "execution_count": 11,
   "metadata": {},
   "outputs": [],
   "source": [
    "import matplotlib.pyplot as plt\n",
    "import itertools as it\n",
    "import random\n",
    "import copy"
   ]
  },
  {
   "cell_type": "code",
   "execution_count": 16,
   "metadata": {},
   "outputs": [],
   "source": [
    "class Schelling:\n",
    "    def __init__(self, width, height, empty_ratio, similarity_threshold, n_iterations, races = 2):\n",
    "        self.width = width\n",
    "        self.height = height\n",
    "        self.races = races\n",
    "        self.empty_ratio = empty_ratio\n",
    "        self.similarity_threshold = similarity_threshold\n",
    "        self.n_iterations = n_iterations\n",
    "        self.empty_houses = []\n",
    "        self.agents = {}\n",
    "        \n",
    "    def populate(self):\n",
    "        \"\"\"\n",
    "        The populate method is used at the beginning of the simulation.\n",
    "        This method randomly distributes people in the grid.\n",
    "        \"\"\"\n",
    "        self.all_houses = list(it.product(range(self.width), range(self.height)))\n",
    "        random.shuffle(self.all_houses)\n",
    "        \n",
    "        self.n_empty = int(self.empty_ratio * len(self.all_houses))\n",
    "        self.empty_houses = self.all_houses[:self.n_empty]\n",
    "        \n",
    "        self.remaining_houses = self.all_houses[self.n_empty:]\n",
    "        houses_by_race = [self.remaining_houses[i::self.races] for i in range(self.races)]\n",
    "        agents = []\n",
    "        for i in range(self.races):\n",
    "            # create agents for each race\n",
    "            agents += list(zip(houses_by_race[i], [i + 1] * len(houses_by_race[i])))\n",
    "        self.agents = dict(agents)\n",
    "        \n",
    "    def is_unhappy(self, x, y):\n",
    "        race = self.agents[(x, y)]\n",
    "        count_similar = 0\n",
    "        count_different = 0\n",
    "        \n",
    "        if x > 0 and y > 0 and (x - 1, y - 1) not in self.empty_houses:\n",
    "            if self.agents[(x - 1, y - 1)] == race:\n",
    "                count_similar += 1\n",
    "            else:\n",
    "                count_different += 1\n",
    "        if y > 0 and (x, y - 1) not in self.empty_houses:\n",
    "            if self.agents[(x, y - 1)] == race:\n",
    "                count_similar += 1\n",
    "            else:\n",
    "                count_different += 1\n",
    "        if x < (self.width - 1) and y > 0 and (x + 1, y - 1) not in self.empty_houses:\n",
    "            if self.agents[(x + 1, y - 1)] == race:\n",
    "                count_similar += 1\n",
    "            else:\n",
    "                count_different += 1\n",
    "        if x > 0 and (x - 1, y) not in self.empty_houses:\n",
    "            if self.agents[(x - 1, y)] == race:\n",
    "                count_similar += 1\n",
    "            else:\n",
    "                count_different += 1\n",
    "        if x < (self.width - 1) and (x + 1, y) not in self.empty_houses:\n",
    "            if self.agents[(x + 1, y)] == race:\n",
    "                count_similar += 1\n",
    "            else:\n",
    "                count_different += 1\n",
    "        if x > 0 and y < (self.height - 1) and (x - 1, y + 1) not in self.empty_houses:\n",
    "            if self.agents[(x - 1, y + 1)] == race:\n",
    "                count_similar += 1\n",
    "            else:\n",
    "                count_different += 1\n",
    "        if x > 0 and y < (self.height - 1) and (x, y + 1) not in self.empty_houses:\n",
    "            if self.agents[(x, y + 1)] == race:\n",
    "                count_similar += 1\n",
    "            else:\n",
    "                count_different += 1        \n",
    "        if x < (self.width - 1) and y < (self.height - 1) and (x + 1, y + 1) not in self.empty_houses:\n",
    "            if self.agents[(x + 1, y + 1)] == race:\n",
    "                count_similar += 1\n",
    "            else:\n",
    "                count_different += 1\n",
    "                \n",
    "        if (count_similar + count_different) == 0:\n",
    "            return False\n",
    "        else:\n",
    "            return float(count_similar) / (count_similar + count_different) < self.similarity_threshold\n",
    "        \n",
    "    def update(self):\n",
    "        for i in range(self.n_iterations):\n",
    "            self.old_agents = copy.deepcopy(self.agents)\n",
    "            n_changes = 0\n",
    "            for agent in self.old_agents:\n",
    "                if self.is_unhappy(agent[0], agent[1]):\n",
    "                    agent_race = self.agents[agent]\n",
    "                    empty_house = random.choice(self.empty_houses)\n",
    "                    self.agents[empty_house] = agent_race\n",
    "                    del self.agents[agent]\n",
    "                    self.empty_houses.remove(empty_house)\n",
    "                    self.empty_houses.append(agent)\n",
    "                    n_changes += 1\n",
    "            print(n_changes)\n",
    "            if n_changes == 0:\n",
    "                break\n",
    "                \n",
    "    def move_to_empty(self, x, y):\n",
    "        race = self.agents[(x, y)]\n",
    "        empty_house = random.choice(self.empty_houses)\n",
    "        self.updated_agents[empty_house] = race\n",
    "        del self.updated_agents[(x, y)]\n",
    "        self.empty_houses.remove(empty_house)\n",
    "        self.empty_houses.append((x, y))\n",
    "    \n",
    "    def plot(self, title, file_name):\n",
    "        fig, ax = plt.subplots(figsize=(10, 10))\n",
    "        # If you want to run the simulation with more than 7 colors, you should set agent_colors accordingly\n",
    "        agent_colors = {1: 'b', 2: 'r', 3: 'g', 4: 'c', 5: 'm', 6: 'y', 7: 'k'}\n",
    "        for agent in self.agents:\n",
    "            ax.scatter(agent[0] + 0.5, agent[1] + 0.5, color=agent_colors[self.agents[agent]])\n",
    "            \n",
    "        ax.set_title(title, fontsize=10, fontweight='bold')\n",
    "        ax.set_xlim([0, self.width])\n",
    "        ax.set_ylim([0, self.height])\n",
    "        ax.set_xticks([])\n",
    "        ax.set_yticks([])\n",
    "        plt.savefig(file_name)"
   ]
  },
  {
   "cell_type": "code",
   "execution_count": 13,
   "metadata": {},
   "outputs": [
    {
     "name": "stdout",
     "output_type": "stream",
     "text": [
      "{(22, 27): 1, (27, 38): 1, (44, 25): 1, (13, 48): 1, (19, 34): 1, (2, 46): 1, (22, 4): 1, (22, 11): 1, (1, 13): 1, (4, 37): 1, (0, 14): 1, (15, 40): 1, (44, 47): 1, (21, 15): 1, (27, 11): 1, (34, 37): 1, (29, 11): 1, (3, 40): 1, (47, 24): 1, (43, 39): 1, (5, 26): 1, (7, 5): 1, (35, 0): 1, (17, 2): 1, (14, 48): 1, (37, 27): 1, (33, 16): 1, (38, 7): 1, (27, 15): 1, (38, 36): 1, (30, 14): 1, (1, 49): 1, (44, 1): 1, (28, 5): 1, (6, 36): 1, (35, 43): 1, (44, 7): 1, (0, 49): 1, (37, 7): 1, (26, 22): 1, (0, 31): 1, (20, 14): 1, (25, 44): 1, (23, 0): 1, (43, 21): 1, (16, 24): 1, (19, 49): 1, (1, 12): 1, (4, 24): 1, (46, 31): 1, (37, 29): 1, (32, 19): 1, (45, 38): 1, (2, 0): 1, (17, 43): 1, (11, 10): 1, (4, 35): 1, (35, 19): 1, (20, 39): 1, (33, 21): 1, (22, 44): 1, (48, 0): 1, (15, 49): 1, (32, 44): 1, (40, 7): 1, (27, 30): 1, (17, 5): 1, (44, 48): 1, (28, 29): 1, (24, 31): 1, (13, 12): 1, (9, 47): 1, (48, 24): 1, (38, 5): 1, (6, 10): 1, (7, 39): 1, (45, 25): 1, (5, 39): 1, (39, 18): 1, (25, 25): 1, (46, 36): 1, (43, 18): 1, (5, 14): 1, (19, 24): 1, (46, 15): 1, (6, 43): 1, (38, 24): 1, (37, 46): 1, (7, 7): 1, (25, 10): 1, (14, 35): 1, (39, 33): 1, (32, 11): 1, (22, 1): 1, (27, 18): 1, (48, 22): 1, (25, 34): 1, (42, 30): 1, (22, 45): 1, (36, 36): 1, (19, 25): 1, (47, 44): 1, (20, 34): 1, (48, 25): 1, (22, 37): 1, (20, 49): 1, (24, 19): 1, (39, 25): 1, (29, 47): 1, (45, 1): 1, (45, 15): 1, (48, 31): 1, (1, 31): 1, (16, 11): 1, (42, 24): 1, (10, 26): 1, (45, 28): 1, (14, 47): 1, (15, 27): 1, (7, 19): 1, (45, 44): 1, (3, 43): 1, (13, 21): 1, (30, 39): 1, (33, 37): 1, (14, 25): 1, (12, 13): 1, (2, 14): 1, (11, 40): 1, (10, 13): 1, (16, 47): 1, (18, 6): 1, (10, 46): 1, (34, 19): 1, (42, 43): 1, (7, 44): 1, (13, 32): 1, (5, 48): 1, (28, 1): 1, (7, 33): 1, (45, 12): 1, (10, 49): 1, (19, 4): 1, (31, 36): 1, (45, 27): 1, (11, 24): 1, (18, 3): 1, (41, 4): 1, (1, 9): 1, (33, 35): 1, (31, 47): 1, (29, 40): 1, (46, 47): 1, (43, 31): 1, (4, 48): 1, (25, 41): 1, (26, 39): 1, (13, 38): 1, (36, 41): 1, (20, 47): 1, (48, 42): 1, (11, 39): 1, (31, 18): 1, (48, 20): 1, (29, 24): 1, (15, 46): 1, (6, 35): 1, (32, 8): 1, (38, 28): 1, (33, 0): 1, (20, 20): 1, (35, 32): 1, (1, 0): 1, (21, 22): 1, (13, 46): 1, (14, 3): 1, (1, 47): 1, (2, 9): 1, (43, 1): 1, (45, 2): 1, (2, 48): 1, (47, 39): 1, (19, 41): 1, (16, 12): 1, (5, 30): 1, (9, 13): 1, (25, 48): 1, (28, 47): 1, (48, 27): 1, (9, 30): 1, (34, 24): 1, (40, 34): 1, (13, 7): 1, (9, 22): 1, (48, 21): 1, (24, 42): 1, (38, 46): 1, (7, 46): 1, (36, 25): 1, (12, 3): 1, (43, 6): 1, (23, 33): 1, (30, 38): 1, (47, 8): 1, (39, 0): 1, (32, 3): 1, (45, 26): 1, (20, 24): 1, (10, 0): 1, (19, 20): 1, (21, 17): 1, (20, 22): 1, (18, 0): 1, (15, 2): 1, (28, 20): 1, (45, 23): 1, (12, 32): 1, (32, 38): 1, (33, 2): 1, (33, 5): 1, (20, 28): 1, (3, 7): 1, (10, 1): 1, (48, 16): 1, (31, 38): 1, (29, 39): 1, (39, 7): 1, (40, 39): 1, (3, 9): 1, (30, 49): 1, (11, 44): 1, (5, 9): 1, (44, 45): 1, (3, 20): 1, (13, 45): 1, (0, 38): 1, (27, 19): 1, (21, 26): 1, (37, 8): 1, (31, 40): 1, (42, 34): 1, (18, 22): 1, (48, 34): 1, (10, 7): 1, (0, 37): 1, (48, 39): 1, (38, 22): 1, (39, 44): 1, (33, 41): 1, (20, 36): 1, (35, 49): 1, (48, 44): 1, (34, 27): 1, (8, 35): 1, (43, 37): 1, (30, 10): 1, (30, 21): 1, (49, 31): 1, (21, 18): 1, (30, 4): 1, (26, 24): 1, (2, 6): 1, (38, 44): 1, (0, 42): 1, (21, 27): 1, (35, 12): 1, (22, 29): 1, (3, 1): 1, (42, 7): 1, (37, 44): 1, (20, 37): 1, (18, 42): 1, (3, 13): 1, (47, 13): 1, (10, 35): 1, (26, 4): 1, (34, 44): 1, (35, 41): 1, (45, 4): 1, (44, 18): 1, (2, 18): 1, (35, 46): 1, (14, 30): 1, (0, 21): 1, (15, 38): 1, (33, 7): 1, (28, 7): 1, (46, 45): 1, (24, 36): 1, (16, 44): 1, (24, 30): 1, (13, 22): 1, (17, 26): 1, (6, 13): 1, (14, 6): 1, (4, 30): 1, (38, 20): 1, (0, 43): 1, (43, 10): 1, (39, 4): 1, (35, 10): 1, (39, 8): 1, (21, 10): 1, (27, 23): 1, (26, 37): 1, (8, 31): 1, (49, 34): 1, (39, 34): 1, (27, 32): 1, (39, 24): 1, (24, 24): 1, (38, 25): 1, (0, 2): 1, (41, 21): 1, (16, 42): 1, (23, 16): 1, (9, 25): 1, (38, 35): 1, (48, 18): 1, (9, 23): 1, (41, 37): 1, (40, 36): 1, (0, 5): 1, (41, 29): 1, (38, 23): 1, (11, 47): 1, (5, 49): 1, (31, 24): 1, (3, 29): 1, (3, 21): 1, (21, 32): 1, (26, 25): 1, (25, 18): 1, (20, 4): 1, (34, 17): 1, (28, 32): 1, (48, 26): 1, (17, 1): 1, (44, 44): 1, (45, 41): 1, (5, 24): 1, (30, 5): 1, (14, 14): 1, (36, 10): 1, (21, 42): 1, (0, 45): 1, (0, 28): 1, (32, 40): 1, (27, 16): 1, (0, 7): 1, (31, 46): 1, (39, 36): 1, (41, 28): 1, (47, 3): 1, (7, 1): 1, (31, 5): 1, (10, 31): 1, (24, 35): 1, (38, 49): 1, (36, 14): 1, (11, 21): 1, (30, 11): 1, (33, 40): 1, (9, 35): 1, (39, 22): 1, (38, 41): 1, (21, 8): 1, (6, 22): 1, (18, 18): 1, (49, 26): 1, (30, 43): 1, (46, 11): 1, (9, 45): 1, (31, 25): 1, (23, 30): 1, (20, 3): 1, (16, 36): 1, (20, 8): 1, (47, 19): 1, (44, 24): 1, (29, 12): 1, (32, 18): 1, (45, 6): 1, (30, 37): 1, (25, 7): 1, (3, 16): 1, (28, 37): 1, (26, 3): 1, (34, 18): 1, (40, 48): 1, (37, 14): 1, (45, 45): 1, (41, 13): 1, (31, 15): 1, (23, 47): 1, (9, 10): 1, (11, 45): 1, (25, 30): 1, (22, 43): 1, (34, 34): 1, (13, 23): 1, (40, 25): 1, (18, 34): 1, (42, 15): 1, (19, 0): 1, (7, 15): 1, (26, 18): 1, (5, 0): 1, (47, 34): 1, (7, 36): 1, (1, 26): 1, (21, 47): 1, (24, 46): 1, (31, 42): 1, (39, 48): 1, (35, 35): 1, (18, 47): 1, (22, 36): 1, (22, 6): 1, (12, 12): 1, (31, 27): 1, (42, 12): 1, (9, 26): 1, (47, 28): 1, (15, 29): 1, (7, 32): 1, (25, 3): 1, (36, 7): 1, (34, 46): 1, (30, 1): 1, (49, 45): 1, (19, 32): 1, (3, 38): 1, (0, 20): 1, (42, 26): 1, (37, 43): 1, (2, 31): 1, (29, 15): 1, (49, 20): 1, (34, 12): 1, (24, 44): 1, (46, 17): 1, (48, 15): 1, (43, 25): 1, (1, 24): 1, (23, 14): 1, (11, 38): 1, (35, 33): 1, (3, 35): 1, (38, 30): 1, (39, 41): 1, (41, 40): 1, (26, 46): 1, (47, 26): 1, (4, 23): 1, (35, 14): 1, (28, 36): 1, (0, 23): 1, (15, 0): 1, (2, 32): 1, (4, 9): 1, (38, 16): 1, (35, 21): 1, (36, 44): 1, (31, 34): 1, (31, 32): 1, (37, 31): 1, (11, 35): 1, (23, 20): 1, (17, 19): 1, (32, 37): 1, (20, 46): 1, (2, 27): 1, (16, 6): 1, (39, 30): 1, (5, 7): 1, (16, 30): 1, (33, 24): 1, (47, 36): 1, (43, 42): 1, (41, 32): 1, (38, 45): 1, (2, 20): 1, (37, 34): 1, (28, 38): 1, (21, 44): 1, (1, 4): 1, (1, 34): 1, (30, 26): 1, (40, 24): 1, (40, 32): 1, (11, 31): 1, (31, 31): 1, (8, 34): 1, (19, 3): 1, (44, 12): 1, (15, 45): 1, (0, 29): 1, (2, 39): 1, (3, 45): 1, (0, 40): 1, (12, 49): 1, (2, 16): 1, (14, 36): 1, (15, 14): 1, (27, 29): 1, (48, 38): 1, (44, 20): 1, (38, 15): 1, (33, 18): 1, (42, 17): 1, (14, 37): 1, (25, 37): 1, (31, 12): 1, (40, 2): 1, (32, 33): 1, (40, 49): 1, (34, 0): 1, (9, 6): 1, (25, 11): 1, (33, 46): 1, (16, 43): 1, (23, 37): 1, (10, 25): 1, (41, 26): 1, (48, 23): 1, (37, 20): 1, (9, 7): 1, (47, 21): 1, (39, 31): 1, (2, 38): 1, (46, 3): 1, (32, 1): 1, (22, 3): 1, (49, 1): 1, (23, 42): 1, (45, 39): 1, (15, 39): 1, (12, 22): 1, (24, 10): 1, (0, 39): 1, (42, 22): 1, (35, 17): 1, (39, 49): 1, (43, 28): 1, (35, 34): 1, (0, 30): 1, (13, 14): 1, (46, 27): 1, (33, 43): 1, (43, 34): 1, (21, 14): 1, (19, 39): 1, (26, 29): 1, (48, 2): 1, (24, 34): 1, (10, 47): 1, (30, 18): 1, (17, 36): 1, (0, 19): 1, (24, 20): 1, (49, 9): 1, (48, 3): 1, (31, 1): 1, (1, 30): 1, (7, 23): 1, (25, 27): 1, (17, 7): 1, (39, 20): 1, (43, 12): 1, (32, 45): 1, (11, 2): 1, (44, 38): 1, (2, 12): 1, (37, 48): 1, (18, 30): 1, (0, 12): 1, (32, 22): 1, (49, 41): 1, (38, 19): 1, (19, 40): 1, (44, 36): 1, (31, 21): 1, (40, 42): 1, (1, 6): 1, (25, 35): 1, (48, 17): 1, (36, 37): 1, (23, 21): 1, (28, 31): 1, (34, 26): 1, (33, 44): 1, (24, 3): 1, (43, 9): 1, (36, 8): 1, (17, 15): 1, (43, 47): 1, (14, 0): 1, (29, 0): 1, (0, 8): 1, (18, 7): 1, (8, 19): 1, (40, 0): 1, (12, 39): 1, (4, 33): 1, (41, 47): 1, (6, 19): 1, (33, 33): 1, (0, 25): 1, (26, 33): 1, (44, 26): 1, (24, 9): 1, (38, 1): 1, (1, 40): 1, (25, 24): 1, (37, 16): 1, (6, 40): 1, (29, 48): 1, (39, 43): 1, (3, 5): 1, (34, 48): 1, (28, 40): 1, (1, 32): 1, (0, 1): 1, (45, 16): 1, (19, 10): 1, (26, 0): 1, (41, 41): 1, (16, 25): 1, (33, 10): 1, (8, 47): 1, (26, 17): 1, (9, 44): 1, (8, 42): 1, (22, 26): 1, (35, 28): 1, (15, 18): 1, (22, 46): 1, (8, 0): 1, (45, 21): 1, (24, 28): 1, (17, 23): 1, (45, 22): 1, (45, 35): 1, (30, 9): 1, (31, 7): 1, (23, 27): 1, (40, 20): 1, (39, 5): 1, (7, 38): 1, (14, 1): 1, (43, 35): 1, (30, 25): 1, (15, 28): 1, (12, 2): 1, (12, 8): 1, (26, 28): 1, (6, 11): 1, (36, 40): 1, (16, 48): 1, (19, 37): 1, (41, 27): 1, (12, 5): 1, (4, 46): 1, (18, 9): 1, (49, 33): 1, (5, 36): 1, (27, 20): 1, (38, 37): 1, (44, 9): 1, (35, 31): 1, (8, 10): 1, (23, 15): 1, (28, 41): 1, (9, 38): 1, (4, 32): 1, (21, 0): 1, (36, 5): 1, (27, 3): 1, (37, 28): 1, (13, 16): 1, (44, 5): 1, (45, 33): 1, (35, 38): 1, (20, 27): 1, (13, 29): 1, (2, 19): 1, (49, 3): 1, (37, 6): 1, (25, 16): 1, (26, 7): 1, (22, 15): 1, (3, 19): 1, (6, 37): 1, (44, 17): 1, (26, 2): 1, (0, 18): 1, (28, 43): 1, (34, 16): 1, (14, 16): 1, (29, 30): 1, (9, 42): 1, (7, 2): 1, (19, 31): 1, (10, 2): 1, (30, 29): 1, (14, 28): 1, (28, 23): 1, (38, 26): 1, (31, 2): 1, (18, 17): 1, (44, 13): 1, (39, 19): 1, (30, 17): 1, (28, 44): 1, (45, 18): 1, (44, 28): 1, (14, 24): 1, (26, 49): 1, (1, 42): 1, (4, 6): 1, (33, 8): 1, (14, 8): 1, (24, 2): 1, (17, 33): 1, (6, 29): 1, (37, 3): 1, (36, 15): 1, (33, 31): 1, (21, 1): 1, (28, 0): 1, (47, 37): 1, (20, 6): 1, (28, 42): 1, (15, 12): 1, (37, 15): 1, (15, 17): 1, (13, 3): 1, (8, 4): 1, (18, 46): 1, (11, 41): 1, (34, 35): 1, (5, 21): 1, (1, 35): 1, (7, 31): 1, (17, 10): 1, (24, 48): 1, (22, 22): 1, (25, 45): 1, (15, 7): 1, (44, 39): 1, (42, 40): 1, (36, 16): 1, (48, 36): 1, (27, 37): 1, (47, 16): 1, (13, 0): 1, (14, 44): 1, (1, 19): 1, (16, 31): 1, (14, 39): 1, (6, 8): 1, (29, 3): 1, (10, 22): 1, (13, 10): 1, (18, 1): 1, (31, 28): 1, (6, 0): 1, (41, 2): 1, (18, 31): 1, (29, 14): 1, (31, 11): 1, (35, 27): 1, (8, 13): 1, (44, 23): 1, (36, 29): 1, (14, 27): 1, (49, 38): 1, (36, 9): 1, (13, 13): 1, (5, 11): 1, (32, 28): 1, (21, 16): 1, (20, 29): 1, (22, 34): 1, (30, 16): 1, (5, 5): 1, (5, 31): 1, (49, 11): 1, (35, 42): 1, (17, 3): 1, (40, 46): 1, (38, 17): 1, (23, 46): 1, (41, 18): 1, (40, 17): 1, (16, 23): 1, (47, 22): 1, (40, 6): 1, (43, 19): 1, (0, 0): 1, (9, 37): 1, (40, 31): 1, (26, 40): 1, (35, 40): 1, (40, 37): 1, (29, 49): 1, (47, 12): 1, (34, 4): 1, (27, 48): 1, (1, 41): 1, (45, 8): 1, (23, 7): 1, (2, 28): 1, (29, 2): 1, (31, 20): 1, (22, 30): 1, (8, 7): 1, (16, 37): 1, (8, 33): 1, (18, 49): 1, (13, 47): 1, (44, 2): 1, (26, 19): 1, (23, 45): 1, (18, 24): 1, (20, 16): 1, (47, 49): 1, (31, 10): 1, (10, 37): 1, (30, 32): 1, (34, 10): 1, (4, 45): 1, (29, 28): 1, (28, 11): 1, (39, 42): 1, (42, 36): 1, (7, 6): 1, (48, 45): 1, (10, 12): 1, (49, 4): 1, (0, 6): 1, (22, 39): 1, (1, 44): 1, (43, 32): 1, (25, 21): 1, (2, 30): 1, (6, 39): 1, (44, 3): 1, (20, 15): 1, (23, 5): 1, (19, 42): 1, (46, 2): 1, (29, 17): 1, (33, 32): 1, (38, 11): 1, (46, 43): 1, (17, 44): 1, (35, 22): 1, (33, 3): 1, (5, 22): 1, (31, 35): 1, (17, 48): 1, (28, 46): 1, (4, 10): 1, (43, 23): 1, (47, 29): 1, (49, 18): 1, (6, 42): 1, (29, 42): 1, (30, 28): 1, (38, 27): 1, (4, 2): 1, (42, 14): 1, (23, 24): 1, (30, 23): 2, (18, 15): 2, (41, 20): 2, (48, 1): 2, (4, 16): 2, (16, 20): 2, (0, 46): 2, (17, 22): 2, (46, 6): 2, (46, 10): 2, (47, 32): 2, (45, 34): 2, (9, 32): 2, (3, 27): 2, (46, 26): 2, (16, 18): 2, (41, 46): 2, (2, 24): 2, (29, 13): 2, (10, 23): 2, (33, 34): 2, (0, 26): 2, (23, 1): 2, (10, 10): 2, (43, 24): 2, (9, 4): 2, (29, 32): 2, (12, 10): 2, (21, 28): 2, (35, 47): 2, (37, 36): 2, (17, 49): 2, (11, 18): 2, (19, 46): 2, (37, 13): 2, (29, 20): 2, (44, 46): 2, (37, 38): 2, (2, 34): 2, (37, 26): 2, (4, 3): 2, (34, 1): 2, (22, 41): 2, (36, 45): 2, (40, 29): 2, (8, 32): 2, (19, 1): 2, (39, 6): 2, (45, 7): 2, (9, 2): 2, (12, 38): 2, (47, 41): 2, (39, 46): 2, (45, 31): 2, (33, 47): 2, (43, 44): 2, (2, 7): 2, (34, 20): 2, (44, 34): 2, (39, 16): 2, (6, 34): 2, (6, 20): 2, (12, 36): 2, (45, 43): 2, (16, 49): 2, (19, 8): 2, (19, 22): 2, (28, 16): 2, (31, 0): 2, (42, 23): 2, (9, 40): 2, (31, 22): 2, (4, 0): 2, (19, 18): 2, (37, 37): 2, (17, 39): 2, (30, 20): 2, (44, 8): 2, (13, 36): 2, (17, 28): 2, (31, 23): 2, (30, 45): 2, (0, 33): 2, (4, 13): 2, (2, 4): 2, (45, 47): 2, (33, 1): 2, (3, 47): 2, (7, 43): 2, (32, 21): 2, (44, 33): 2, (21, 13): 2, (7, 3): 2, (26, 16): 2, (27, 47): 2, (33, 15): 2, (44, 29): 2, (2, 21): 2, (23, 13): 2, (25, 43): 2, (8, 36): 2, (32, 15): 2, (26, 15): 2, (34, 40): 2, (12, 44): 2, (29, 45): 2, (11, 3): 2, (4, 4): 2, (15, 42): 2, (47, 33): 2, (24, 49): 2, (31, 17): 2, (31, 14): 2, (7, 16): 2, (12, 30): 2, (40, 43): 2, (3, 23): 2, (24, 13): 2, (33, 36): 2, (6, 49): 2, (6, 26): 2, (13, 9): 2, (17, 18): 2, (34, 36): 2, (48, 49): 2, (2, 3): 2, (47, 45): 2, (35, 4): 2, (39, 17): 2, (41, 16): 2, (23, 32): 2, (32, 47): 2, (7, 30): 2, (20, 35): 2, (46, 32): 2, (27, 40): 2, (45, 24): 2, (32, 36): 2, (39, 1): 2, (17, 42): 2, (4, 49): 2, (35, 6): 2, (45, 11): 2, (31, 19): 2, (7, 24): 2, (42, 8): 2, (19, 45): 2, (25, 36): 2, (47, 15): 2, (16, 5): 2, (2, 23): 2, (34, 8): 2, (19, 7): 2, (5, 28): 2, (47, 5): 2, (4, 28): 2, (5, 33): 2, (13, 42): 2, (26, 48): 2, (8, 17): 2, (12, 18): 2, (28, 24): 2, (34, 33): 2, (41, 42): 2, (7, 42): 2, (23, 8): 2, (23, 28): 2, (37, 5): 2, (43, 3): 2, (8, 37): 2, (11, 11): 2, (10, 4): 2, (22, 16): 2, (21, 12): 2, (20, 19): 2, (5, 45): 2, (20, 26): 2, (46, 40): 2, (2, 45): 2, (18, 19): 2, (21, 38): 2, (47, 14): 2, (37, 19): 2, (9, 48): 2, (28, 4): 2, (23, 36): 2, (18, 4): 2, (29, 29): 2, (1, 18): 2, (36, 49): 2, (45, 3): 2, (16, 2): 2, (10, 14): 2, (40, 10): 2, (8, 22): 2, (25, 13): 2, (5, 18): 2, (9, 5): 2, (1, 8): 2, (42, 47): 2, (49, 24): 2, (25, 29): 2, (5, 40): 2, (36, 43): 2, (3, 48): 2, (18, 33): 2, (34, 6): 2, (5, 25): 2, (21, 46): 2, (4, 26): 2, (19, 14): 2, (30, 19): 2, (43, 41): 2, (7, 14): 2, (21, 45): 2, (48, 30): 2, (1, 11): 2, (23, 23): 2, (21, 2): 2, (10, 39): 2, (23, 3): 2, (45, 40): 2, (43, 46): 2, (22, 0): 2, (2, 25): 2, (29, 33): 2, (32, 10): 2, (44, 35): 2, (21, 30): 2, (26, 31): 2, (42, 49): 2, (15, 24): 2, (17, 17): 2, (20, 17): 2, (11, 4): 2, (37, 42): 2, (26, 21): 2, (2, 36): 2, (25, 31): 2, (34, 47): 2, (16, 41): 2, (36, 31): 2, (47, 11): 2, (18, 12): 2, (15, 9): 2, (24, 40): 2, (23, 38): 2, (47, 42): 2, (19, 38): 2, (1, 25): 2, (19, 13): 2, (30, 2): 2, (47, 17): 2, (18, 2): 2, (19, 30): 2, (21, 25): 2, (5, 42): 2, (18, 29): 2, (27, 44): 2, (45, 5): 2, (43, 33): 2, (22, 47): 2, (34, 43): 2, (17, 13): 2, (7, 9): 2, (12, 17): 2, (1, 48): 2, (7, 20): 2, (21, 48): 2, (9, 0): 2, (44, 16): 2, (1, 16): 2, (43, 40): 2, (36, 13): 2, (26, 43): 2, (29, 31): 2, (41, 17): 2, (46, 1): 2, (32, 30): 2, (18, 20): 2, (37, 41): 2, (8, 24): 2, (4, 38): 2, (37, 9): 2, (39, 32): 2, (12, 34): 2, (14, 23): 2, (25, 20): 2, (37, 40): 2, (23, 9): 2, (35, 39): 2, (8, 49): 2, (24, 0): 2, (11, 32): 2, (3, 33): 2, (7, 22): 2, (44, 40): 2, (0, 48): 2, (37, 39): 2, (6, 4): 2, (1, 21): 2, (9, 24): 2, (46, 34): 2, (9, 18): 2, (38, 43): 2, (20, 0): 2, (24, 23): 2, (33, 17): 2, (42, 33): 2, (10, 40): 2, (1, 45): 2, (41, 33): 2, (44, 49): 2, (18, 21): 2, (22, 38): 2, (10, 36): 2, (36, 24): 2, (43, 26): 2, (23, 17): 2, (42, 35): 2, (42, 6): 2, (37, 25): 2, (26, 41): 2, (41, 15): 2, (24, 45): 2, (18, 48): 2, (16, 21): 2, (49, 35): 2, (11, 42): 2, (10, 8): 2, (15, 44): 2, (47, 35): 2, (19, 26): 2, (49, 15): 2, (41, 45): 2, (3, 46): 2, (7, 45): 2, (43, 22): 2, (45, 37): 2, (34, 30): 2, (11, 37): 2, (45, 29): 2, (49, 17): 2, (48, 8): 2, (1, 46): 2, (2, 1): 2, (15, 31): 2, (40, 11): 2, (8, 27): 2, (8, 12): 2, (19, 11): 2, (10, 32): 2, (8, 40): 2, (33, 38): 2, (17, 6): 2, (44, 43): 2, (21, 19): 2, (16, 0): 2, (46, 8): 2, (3, 28): 2, (30, 30): 2, (23, 10): 2, (18, 14): 2, (34, 22): 2, (9, 33): 2, (35, 11): 2, (4, 18): 2, (1, 33): 2, (37, 4): 2, (14, 9): 2, (41, 38): 2, (11, 36): 2, (12, 40): 2, (13, 33): 2, (39, 26): 2, (4, 40): 2, (3, 10): 2, (45, 10): 2, (39, 35): 2, (28, 33): 2, (30, 36): 2, (47, 31): 2, (22, 23): 2, (41, 24): 2, (43, 20): 2, (2, 35): 2, (9, 8): 2, (9, 20): 2, (20, 18): 2, (19, 19): 2, (28, 25): 2, (38, 47): 2, (47, 20): 2, (25, 46): 2, (21, 36): 2, (11, 34): 2, (5, 38): 2, (32, 25): 2, (12, 21): 2, (9, 21): 2, (11, 6): 2, (23, 41): 2, (37, 0): 2, (49, 36): 2, (44, 31): 2, (3, 24): 2, (37, 1): 2, (31, 4): 2, (40, 41): 2, (19, 15): 2, (8, 38): 2, (8, 39): 2, (30, 13): 2, (47, 4): 2, (10, 33): 2, (40, 12): 2, (14, 21): 2, (46, 48): 2, (36, 27): 2, (35, 23): 2, (16, 16): 2, (17, 37): 2, (3, 18): 2, (2, 47): 2, (2, 40): 2, (14, 40): 2, (18, 16): 2, (2, 29): 2, (14, 31): 2, (29, 46): 2, (41, 12): 2, (5, 32): 2, (30, 42): 2, (11, 14): 2, (2, 10): 2, (28, 10): 2, (38, 9): 2, (42, 13): 2, (38, 14): 2, (32, 12): 2, (10, 42): 2, (44, 37): 2, (22, 24): 2, (26, 23): 2, (21, 49): 2, (40, 19): 2, (36, 11): 2, (43, 17): 2, (38, 18): 2, (25, 28): 2, (12, 45): 2, (13, 24): 2, (6, 46): 2, (6, 23): 2, (36, 4): 2, (23, 29): 2, (24, 25): 2, (25, 8): 2, (39, 11): 2, (48, 7): 2, (23, 12): 2, (33, 26): 2, (13, 25): 2, (40, 5): 2, (25, 5): 2, (35, 37): 2, (42, 32): 2, (47, 2): 2, (14, 33): 2, (1, 36): 2, (34, 45): 2, (24, 39): 2, (34, 32): 2, (26, 11): 2, (28, 17): 2, (15, 37): 2, (4, 1): 2, (34, 29): 2, (49, 6): 2, (8, 30): 2, (36, 42): 2, (21, 20): 2, (34, 2): 2, (0, 47): 2, (30, 7): 2, (49, 14): 2, (16, 1): 2, (36, 19): 2, (12, 19): 2, (47, 30): 2, (29, 4): 2, (45, 0): 2, (0, 44): 2, (16, 17): 2, (31, 6): 2, (30, 41): 2, (13, 8): 2, (26, 5): 2, (36, 6): 2, (30, 40): 2, (13, 15): 2, (24, 47): 2, (22, 42): 2, (4, 25): 2, (4, 22): 2, (34, 41): 2, (33, 14): 2, (42, 27): 2, (16, 19): 2, (25, 26): 2, (13, 6): 2, (48, 13): 2, (0, 27): 2, (21, 39): 2, (39, 15): 2, (18, 32): 2, (16, 32): 2, (38, 29): 2, (0, 24): 2, (7, 34): 2, (47, 10): 2, (3, 25): 2, (18, 28): 2, (35, 20): 2, (21, 43): 2, (32, 46): 2, (7, 11): 2, (28, 35): 2, (30, 33): 2, (25, 0): 2, (12, 27): 2, (15, 48): 2, (48, 9): 2, (3, 0): 2, (44, 30): 2, (26, 8): 2, (22, 21): 2, (30, 0): 2, (48, 28): 2, (48, 10): 2, (21, 3): 2, (34, 15): 2, (42, 9): 2, (39, 3): 2, (27, 10): 2, (22, 5): 2, (10, 34): 2, (33, 13): 2, (5, 43): 2, (39, 10): 2, (11, 49): 2, (38, 42): 2, (35, 15): 2, (29, 35): 2, (17, 25): 2, (14, 42): 2, (10, 11): 2, (2, 17): 2, (12, 11): 2, (20, 25): 2, (27, 17): 2, (27, 49): 2, (7, 29): 2, (36, 39): 2, (18, 27): 2, (25, 14): 2, (2, 5): 2, (10, 15): 2, (7, 37): 2, (22, 33): 2, (38, 32): 2, (31, 39): 2, (30, 47): 2, (41, 22): 2, (9, 46): 2, (14, 22): 2, (20, 38): 2, (5, 10): 2, (36, 23): 2, (16, 4): 2, (42, 46): 2, (20, 32): 2, (9, 19): 2, (4, 41): 2, (46, 41): 2, (37, 11): 2, (14, 13): 2, (26, 45): 2, (13, 2): 2, (38, 21): 2, (18, 39): 2, (28, 48): 2, (44, 21): 2, (29, 26): 2, (45, 20): 2, (11, 23): 2, (6, 24): 2, (16, 38): 2, (4, 12): 2, (43, 13): 2, (46, 33): 2, (24, 15): 2, (8, 43): 2, (27, 4): 2, (15, 23): 2, (47, 1): 2, (6, 16): 2, (18, 8): 2, (0, 34): 2, (6, 12): 2, (20, 7): 2, (30, 46): 2, (13, 19): 2, (49, 12): 2, (9, 31): 2, (42, 20): 2, (34, 7): 2, (6, 33): 2, (4, 43): 2, (20, 23): 2, (47, 7): 2, (9, 15): 2, (31, 44): 2, (45, 32): 2, (31, 16): 2, (9, 9): 2, (18, 36): 2, (45, 48): 2, (11, 22): 2, (22, 28): 2, (3, 36): 2, (15, 5): 2, (13, 11): 2, (4, 17): 2, (15, 43): 2, (34, 49): 2, (43, 36): 2, (20, 43): 2, (37, 21): 2, (8, 18): 2, (41, 0): 2, (42, 4): 2, (39, 12): 2, (14, 19): 2, (6, 5): 2, (40, 4): 2, (16, 29): 2, (9, 27): 2, (40, 23): 2, (27, 43): 2, (46, 44): 2, (49, 2): 2, (19, 9): 2, (46, 0): 2, (8, 21): 2, (9, 36): 2, (5, 47): 2, (22, 48): 2, (1, 5): 2, (36, 1): 2, (16, 15): 2, (40, 40): 2, (36, 12): 2, (23, 43): 2, (10, 41): 2, (25, 9): 2, (34, 42): 2, (42, 2): 2, (8, 1): 2, (2, 8): 2, (36, 38): 2, (15, 32): 2, (26, 36): 2, (10, 18): 2, (41, 48): 2, (4, 39): 2, (5, 46): 2, (41, 14): 2, (10, 20): 2, (45, 13): 2, (24, 32): 2, (24, 17): 2, (1, 22): 2, (13, 39): 2, (30, 34): 2, (25, 33): 2, (44, 32): 2, (23, 22): 2, (7, 48): 2, (29, 1): 2, (5, 16): 2, (40, 35): 2, (32, 41): 2, (5, 35): 2, (26, 20): 2, (40, 15): 2, (27, 24): 2, (4, 19): 2, (36, 33): 2, (29, 18): 2, (8, 29): 2, (40, 3): 2, (7, 13): 2, (41, 7): 2, (13, 31): 2, (18, 44): 2, (18, 11): 2, (35, 13): 2, (33, 11): 2, (14, 34): 2, (18, 13): 2, (42, 11): 2, (27, 21): 2, (3, 41): 2, (12, 29): 2, (48, 33): 2, (2, 43): 2, (46, 42): 2, (26, 9): 2, (17, 0): 2, (17, 11): 2, (46, 18): 2, (24, 22): 2, (34, 14): 2, (30, 24): 2, (44, 19): 2, (22, 35): 2, (47, 46): 2, (8, 20): 2, (12, 20): 2, (14, 45): 2, (47, 38): 2, (4, 15): 2, (26, 27): 2, (40, 33): 2, (14, 4): 2, (12, 1): 2, (36, 17): 2, (1, 37): 2, (17, 8): 2, (49, 44): 2, (32, 6): 2, (13, 40): 2, (6, 17): 2, (41, 30): 2, (2, 15): 2, (6, 30): 2, (44, 42): 2, (4, 44): 2, (14, 11): 2, (16, 8): 2, (36, 2): 2, (17, 29): 2, (17, 46): 2, (29, 21): 2, (42, 19): 2, (2, 22): 2, (46, 37): 2, (41, 6): 2, (39, 45): 2, (6, 32): 2, (22, 49): 2, (49, 40): 2, (4, 47): 2, (42, 16): 2, (13, 35): 2, (23, 31): 2, (11, 15): 2, (12, 0): 2, (20, 11): 2, (11, 13): 2, (35, 9): 2, (3, 37): 2, (15, 11): 2, (35, 26): 2, (15, 16): 2, (3, 14): 2, (4, 36): 2, (24, 43): 2, (20, 5): 2, (6, 48): 2, (36, 34): 2, (27, 2): 2, (44, 27): 2, (24, 37): 2, (9, 41): 2, (24, 16): 2, (26, 12): 2, (8, 28): 2, (45, 36): 2, (36, 20): 2, (37, 17): 2, (24, 18): 2, (17, 35): 2, (46, 39): 2, (49, 49): 2, (16, 14): 2, (49, 29): 2, (35, 18): 2, (12, 14): 2, (35, 8): 2, (7, 10): 2, (1, 20): 2, (32, 4): 2, (13, 37): 2, (20, 44): 2, (13, 1): 2, (13, 26): 2, (28, 15): 2, (35, 29): 2, (11, 12): 2, (22, 40): 2, (32, 32): 2, (43, 2): 2, (34, 21): 2, (35, 48): 2, (20, 41): 2, (20, 33): 2, (46, 30): 2, (36, 26): 2, (40, 44): 2, (46, 14): 2, (35, 16): 2, (27, 26): 2, (30, 3): 2, (15, 10): 2, (49, 22): 2, (48, 5): 2, (39, 9): 2, (40, 16): 2, (49, 10): 2, (21, 33): 2, (33, 6): 2, (37, 2): 2, (31, 41): 2, (10, 30): 2, (47, 43): 2, (19, 2): 2, (24, 41): 2, (24, 26): 2, (23, 48): 2, (40, 8): 2, (8, 2): 2, (15, 19): 2, (9, 17): 2, (22, 13): 2, (4, 14): 2, (8, 23): 2, (8, 26): 2, (12, 47): 2, (16, 26): 2, (22, 9): 2, (2, 42): 2, (2, 49): 2, (17, 40): 2, (13, 30): 2, (14, 18): 2, (12, 25): 2, (5, 17): 2, (44, 6): 2, (14, 29): 2, (32, 0): 2, (14, 15): 2, (2, 37): 2, (13, 27): 2, (27, 14): 2, (38, 2): 2, (9, 49): 2, (19, 6): 2, (10, 16): 2, (38, 31): 2, (28, 19): 2, (26, 38): 2, (41, 43): 2, (7, 28): 2}\n"
     ]
    }
   ],
   "source": [
    "schelling_1 = Schelling(50, 50, 0.3, 0.6, 500, 2)\n",
    "schelling_1.populate()\n",
    "print(schelling_1.agents)"
   ]
  },
  {
   "cell_type": "code",
   "execution_count": 14,
   "metadata": {},
   "outputs": [
    {
     "data": {
      "image/png": "[encoded data removed]",
      "text/plain": [
       "<Figure size 720x720 with 1 Axes>"
      ]
     },
     "metadata": {},
     "output_type": "display_data"
    }
   ],
   "source": [
    "schelling_1.plot('Schelling Model: Initial State', 'schelling_initial.png')"
   ]
  },
  {
   "cell_type": "code",
   "execution_count": 5,
   "metadata": {},
   "outputs": [
    {
     "name": "stdout",
     "output_type": "stream",
     "text": [
      "1005\n",
      "570\n",
      "380\n",
      "290\n",
      "213\n",
      "158\n",
      "122\n",
      "85\n",
      "75\n",
      "63\n",
      "46\n",
      "27\n",
      "23\n",
      "19\n",
      "9\n",
      "8\n",
      "10\n",
      "6\n",
      "6\n",
      "6\n",
      "4\n",
      "4\n",
      "4\n",
      "3\n",
      "3\n",
      "3\n",
      "2\n",
      "3\n",
      "1\n",
      "2\n",
      "2\n",
      "2\n",
      "2\n",
      "0\n"
     ]
    },
    {
     "data": {
      "image/png": "[encoded data removed]",
      "text/plain": [
       "<Figure size 720x720 with 1 Axes>"
      ]
     },
     "metadata": {},
     "output_type": "display_data"
    }
   ],
   "source": [
    "schelling_1.update()\n",
    "schelling_1.plot('Schelling Model: Final State', 'schelling_final.png')"
   ]
  },
  {
   "cell_type": "code",
   "execution_count": 7,
   "metadata": {},
   "outputs": [
    {
     "data": {
      "text/plain": [
       "[(1, 'a'), (1, 'b'), (2, 'a'), (2, 'b')]"
      ]
     },
     "execution_count": 7,
     "metadata": {},
     "output_type": "execute_result"
    }
   ],
   "source": [
    "all_houses = list(it.product([1, 2], ['a', 'b']))\n",
    "all_houses"
   ]
  },
  {
   "cell_type": "code",
   "execution_count": 8,
   "metadata": {},
   "outputs": [
    {
     "data": {
      "text/plain": [
       "[(2, 'a'), (1, 'a'), (1, 'b'), (2, 'b')]"
      ]
     },
     "execution_count": 8,
     "metadata": {},
     "output_type": "execute_result"
    }
   ],
   "source": [
    "random.shuffle(all_houses)\n",
    "all_houses"
   ]
  },
  {
   "cell_type": "code",
   "execution_count": 9,
   "metadata": {},
   "outputs": [
    {
     "name": "stdout",
     "output_type": "stream",
     "text": [
      "4\n",
      "1\n"
     ]
    },
    {
     "data": {
      "text/plain": [
       "[(2, 'a')]"
      ]
     },
     "execution_count": 9,
     "metadata": {},
     "output_type": "execute_result"
    }
   ],
   "source": [
    "print(len(all_houses))\n",
    "empty_ratio = 0.25\n",
    "n_empty = int(empty_ratio * len(all_houses))\n",
    "print(n_empty)\n",
    "empty_houses = all_houses[:n_empty]\n",
    "empty_houses"
   ]
  },
  {
   "cell_type": "code",
   "execution_count": 10,
   "metadata": {},
   "outputs": [
    {
     "data": {
      "text/plain": [
       "[(1, 'a'), (1, 'b'), (2, 'b')]"
      ]
     },
     "execution_count": 10,
     "metadata": {},
     "output_type": "execute_result"
    }
   ],
   "source": [
    "remaining_houses = all_houses[n_empty:]\n",
    "remaining_houses"
   ]
  },
  {
   "cell_type": "code",
   "execution_count": 15,
   "metadata": {},
   "outputs": [
    {
     "name": "stdout",
     "output_type": "stream",
     "text": [
      "[[(2, 'a'), (1, 'b')]]\n",
      "[[(2, 'b')]]\n"
     ]
    }
   ],
   "source": [
    "races = 2\n",
    "print([remaining_houses[0::races]])\n",
    "print([remaining_houses[1::races]])"
   ]
  },
  {
   "cell_type": "code",
   "execution_count": 16,
   "metadata": {},
   "outputs": [
    {
     "name": "stdout",
     "output_type": "stream",
     "text": [
      "[(2, 'a'), (1, 'b')]\n",
      "[(2, 'b')]\n"
     ]
    }
   ],
   "source": [
    "houses_by_race = [remaining_houses[i::races] for i in range(races)]\n",
    "print(houses_by_race[0])\n",
    "print(houses_by_race[1])"
   ]
  },
  {
   "cell_type": "code",
   "execution_count": 17,
   "metadata": {},
   "outputs": [
    {
     "data": {
      "text/plain": [
       "[(1, 4), (2, 5), (3, 6)]"
      ]
     },
     "execution_count": 17,
     "metadata": {},
     "output_type": "execute_result"
    }
   ],
   "source": [
    "x = [1, 2, 3]\n",
    "y = [4, 5, 6]\n",
    "zipped = zip(x, y)\n",
    "list(zipped)"
   ]
  },
  {
   "cell_type": "code",
   "execution_count": 18,
   "metadata": {},
   "outputs": [
    {
     "name": "stdout",
     "output_type": "stream",
     "text": [
      "x = [(2, 'a'), (1, 'b')]\n",
      "y = [1, 1]\n"
     ]
    }
   ],
   "source": [
    "x = houses_by_race[0]\n",
    "print(\"x = \" + str(x))\n",
    "y = [1] * len(houses_by_race[0])\n",
    "print(\"y = \" + str(y))"
   ]
  },
  {
   "cell_type": "code",
   "execution_count": 19,
   "metadata": {},
   "outputs": [
    {
     "data": {
      "text/plain": [
       "[((2, 'a'), 1), ((1, 'b'), 1)]"
      ]
     },
     "execution_count": 19,
     "metadata": {},
     "output_type": "execute_result"
    }
   ],
   "source": [
    "zipped1 = zip(houses_by_race[0], [1] * len(houses_by_race[0]))\n",
    "zipped1_lst = list(zipped1)\n",
    "zipped1_lst"
   ]
  },
  {
   "cell_type": "code",
   "execution_count": 20,
   "metadata": {},
   "outputs": [
    {
     "data": {
      "text/plain": [
       "[((2, 'b'), 2)]"
      ]
     },
     "execution_count": 20,
     "metadata": {},
     "output_type": "execute_result"
    }
   ],
   "source": [
    "zipped2 = zip(houses_by_race[1], [2] * len(houses_by_race[1]))\n",
    "zipped2_lst = list(zipped2)\n",
    "zipped2_lst"
   ]
  },
  {
   "cell_type": "code",
   "execution_count": 21,
   "metadata": {},
   "outputs": [
    {
     "data": {
      "text/plain": [
       "[((2, 'a'), 1), ((1, 'b'), 1), ((2, 'b'), 2)]"
      ]
     },
     "execution_count": 21,
     "metadata": {},
     "output_type": "execute_result"
    }
   ],
   "source": [
    "zipped1_lst + zipped2_lst"
   ]
  },
  {
   "cell_type": "code",
   "execution_count": 22,
   "metadata": {},
   "outputs": [
    {
     "data": {
      "text/plain": [
       "{(1, 'b'): 1, (2, 'a'): 1, (2, 'b'): 2}"
      ]
     },
     "execution_count": 22,
     "metadata": {},
     "output_type": "execute_result"
    }
   ],
   "source": [
    "dict(zipped1_lst + zipped2_lst)"
   ]
  }
 ],
 "metadata": {
  "kernelspec": {
   "display_name": "Python 3",
   "language": "python",
   "name": "python3"
  },
  "language_info": {
   "codemirror_mode": {
    "name": "ipython",
    "version": 3
   },
   "file_extension": ".py",
   "mimetype": "text/x-python",
   "name": "python",
   "nbconvert_exporter": "python",
   "pygments_lexer": "ipython3",
   "version": "3.6.8"
  }
 },
 "nbformat": 4,
 "nbformat_minor": 2
}
